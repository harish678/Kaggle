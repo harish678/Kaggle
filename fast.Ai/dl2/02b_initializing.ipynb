{
  "nbformat": 4,
  "nbformat_minor": 0,
  "metadata": {
    "kernelspec": {
      "name": "python3",
      "display_name": "Python 3"
    },
    "colab": {
      "name": "02b_initializing.ipynb",
      "provenance": [],
      "toc_visible": true
    },
    "accelerator": "GPU"
  },
  "cells": [
    {
      "cell_type": "code",
      "metadata": {
        "id": "fhHCOgleaQp_",
        "colab_type": "code",
        "colab": {}
      },
      "source": [
        "import torch"
      ],
      "execution_count": 0,
      "outputs": []
    },
    {
      "cell_type": "markdown",
      "metadata": {
        "id": "u5YhwDN2aQqF",
        "colab_type": "text"
      },
      "source": [
        "### Why you need a good init"
      ]
    },
    {
      "cell_type": "markdown",
      "metadata": {
        "id": "mhY9-6FOaQqH",
        "colab_type": "text"
      },
      "source": [
        "To understand why initialization is important in a neural net, we'll focus on the basic operation you have there: matrix multiplications. So let's just take a vector `x`, and a matrix `a` initiliazed randomly, then multiply them 100 times (as if we had 100 layers). "
      ]
    },
    {
      "cell_type": "code",
      "metadata": {
        "id": "5Le68wivaQqK",
        "colab_type": "code",
        "colab": {}
      },
      "source": [
        "x = torch.randn(512)\n",
        "a = torch.randn(512,512)"
      ],
      "execution_count": 0,
      "outputs": []
    },
    {
      "cell_type": "code",
      "metadata": {
        "id": "Z03h0eVMaQqN",
        "colab_type": "code",
        "colab": {}
      },
      "source": [
        "for i in range(100): \n",
        "    x = a @ x"
      ],
      "execution_count": 0,
      "outputs": []
    },
    {
      "cell_type": "code",
      "metadata": {
        "id": "xax8B1F4aQqT",
        "colab_type": "code",
        "colab": {
          "base_uri": "https://localhost:8080/",
          "height": 35
        },
        "outputId": "cb3644a3-5273-4405-a1a1-80ef42943a91"
      },
      "source": [
        "x.mean(),x.std()"
      ],
      "execution_count": 4,
      "outputs": [
        {
          "output_type": "execute_result",
          "data": {
            "text/plain": [
              "(tensor(nan), tensor(nan))"
            ]
          },
          "metadata": {
            "tags": []
          },
          "execution_count": 4
        }
      ]
    },
    {
      "cell_type": "markdown",
      "metadata": {
        "id": "aLU7kuquaQqY",
        "colab_type": "text"
      },
      "source": [
        "The problem you'll get with that is activation explosion: very soon, your activations will go to nan. We can even ask the loop to break when that first happens:"
      ]
    },
    {
      "cell_type": "code",
      "metadata": {
        "id": "BYT-o9unaQqZ",
        "colab_type": "code",
        "colab": {}
      },
      "source": [
        "x = torch.randn(512)\n",
        "a = torch.randn(512,512)"
      ],
      "execution_count": 0,
      "outputs": []
    },
    {
      "cell_type": "code",
      "metadata": {
        "id": "KADZVqfkaQqc",
        "colab_type": "code",
        "colab": {}
      },
      "source": [
        "for i in range(100): \n",
        "    x = a @ x\n",
        "    if x.std() != x.std(): break"
      ],
      "execution_count": 0,
      "outputs": []
    },
    {
      "cell_type": "code",
      "metadata": {
        "id": "GZUmlFzYaQqe",
        "colab_type": "code",
        "colab": {
          "base_uri": "https://localhost:8080/",
          "height": 35
        },
        "outputId": "4b1bf76a-1603-45dc-896c-194686f84804"
      },
      "source": [
        "i"
      ],
      "execution_count": 7,
      "outputs": [
        {
          "output_type": "execute_result",
          "data": {
            "text/plain": [
              "28"
            ]
          },
          "metadata": {
            "tags": []
          },
          "execution_count": 7
        }
      ]
    },
    {
      "cell_type": "markdown",
      "metadata": {
        "id": "ER2I_uzZaQqh",
        "colab_type": "text"
      },
      "source": [
        "It only takes 27 multiplications! On the other hand, if you initialize your activations with a scale that is too low, then you'll get another problem:"
      ]
    },
    {
      "cell_type": "code",
      "metadata": {
        "id": "ijPmy5g1aQqi",
        "colab_type": "code",
        "colab": {}
      },
      "source": [
        "x = torch.randn(512)\n",
        "a = torch.randn(512,512) * 0.01"
      ],
      "execution_count": 0,
      "outputs": []
    },
    {
      "cell_type": "code",
      "metadata": {
        "id": "0KG95uQcaQqp",
        "colab_type": "code",
        "colab": {}
      },
      "source": [
        "for i in range(100): \n",
        "    x = a @ x"
      ],
      "execution_count": 0,
      "outputs": []
    },
    {
      "cell_type": "code",
      "metadata": {
        "id": "E978kA1MaQqs",
        "colab_type": "code",
        "colab": {
          "base_uri": "https://localhost:8080/",
          "height": 35
        },
        "outputId": "b070e94a-c160-44e1-91b1-3abb99cdecbf"
      },
      "source": [
        "x.mean(),x.std()"
      ],
      "execution_count": 10,
      "outputs": [
        {
          "output_type": "execute_result",
          "data": {
            "text/plain": [
              "(tensor(0.), tensor(0.))"
            ]
          },
          "metadata": {
            "tags": []
          },
          "execution_count": 10
        }
      ]
    },
    {
      "cell_type": "markdown",
      "metadata": {
        "id": "BmbH6tnLaQqu",
        "colab_type": "text"
      },
      "source": [
        "Here, every activation vanished to 0. So to avoid that problem, people have come with several strategies to initialize their weight matices, such as:\n",
        "- use a standard deviation that will make sure x and Ax have exactly the same scale\n",
        "- use an orthogonal matrix to initialize the weight (orthogonal matrices have the special property that they preserve the L2 norm, so x and Ax would have the same sum of squares in that case)\n",
        "- use [spectral normalization](https://arxiv.org/pdf/1802.05957.pdf) on the matrix A  (the spectral norm of A is the least possible number M such that `torch.norm(A@x) <= M*torch.norm(x)` so dividing A by this M insures you don't overflow. You can still vanish with this)"
      ]
    },
    {
      "cell_type": "markdown",
      "metadata": {
        "id": "J1USIQLgaQqv",
        "colab_type": "text"
      },
      "source": [
        "### The magic number for scaling"
      ]
    },
    {
      "cell_type": "markdown",
      "metadata": {
        "id": "C_lCAqUdaQqw",
        "colab_type": "text"
      },
      "source": [
        "Here we will focus on the first one, which is the Xavier initialization. It tells us that we should use a scale equal to `1/math.sqrt(n_in)` where `n_in` is the number of inputs of our matrix."
      ]
    },
    {
      "cell_type": "code",
      "metadata": {
        "id": "CZ7Z6j9IaQqy",
        "colab_type": "code",
        "colab": {}
      },
      "source": [
        "import math"
      ],
      "execution_count": 0,
      "outputs": []
    },
    {
      "cell_type": "code",
      "metadata": {
        "id": "FpO1wF_8aQq0",
        "colab_type": "code",
        "colab": {}
      },
      "source": [
        "x = torch.randn(512)\n",
        "a = torch.randn(512,512) / math.sqrt(512)"
      ],
      "execution_count": 0,
      "outputs": []
    },
    {
      "cell_type": "code",
      "metadata": {
        "id": "tn7n39F-aQq3",
        "colab_type": "code",
        "colab": {}
      },
      "source": [
        "for i in range(100): x = a @ x"
      ],
      "execution_count": 0,
      "outputs": []
    },
    {
      "cell_type": "code",
      "metadata": {
        "id": "oUFEwq8EaQq6",
        "colab_type": "code",
        "colab": {
          "base_uri": "https://localhost:8080/",
          "height": 35
        },
        "outputId": "7aec1e31-7337-48d4-e539-4ea523300f10"
      },
      "source": [
        "x.mean(),x.std()"
      ],
      "execution_count": 14,
      "outputs": [
        {
          "output_type": "execute_result",
          "data": {
            "text/plain": [
              "(tensor(-0.0615), tensor(21.6749))"
            ]
          },
          "metadata": {
            "tags": []
          },
          "execution_count": 14
        }
      ]
    },
    {
      "cell_type": "markdown",
      "metadata": {
        "id": "MGL6Mu5uaQq8",
        "colab_type": "text"
      },
      "source": [
        "And indeed it works. Note that this magic number isn't very far from the 0.01 we had earlier."
      ]
    },
    {
      "cell_type": "code",
      "metadata": {
        "id": "k32V2OJJaQq-",
        "colab_type": "code",
        "colab": {
          "base_uri": "https://localhost:8080/",
          "height": 35
        },
        "outputId": "1b9f01b4-6870-4574-9d40-8d45371bcea4"
      },
      "source": [
        "1/ math.sqrt(512)"
      ],
      "execution_count": 15,
      "outputs": [
        {
          "output_type": "execute_result",
          "data": {
            "text/plain": [
              "0.044194173824159216"
            ]
          },
          "metadata": {
            "tags": []
          },
          "execution_count": 15
        }
      ]
    },
    {
      "cell_type": "markdown",
      "metadata": {
        "id": "eVHbYW8baQrC",
        "colab_type": "text"
      },
      "source": [
        "But where does it come from? It's not that mysterious if you remember the definition of the matrix multiplication. When we do `y = a @ x`, the coefficients of `y` are defined by\n",
        "\n",
        "$$y_{i} = a_{i,0} x_{0} + a_{i,1} x_{1} + \\cdots + a_{i,n-1} x_{n-1} = \\sum_{k=0}^{n-1} a_{i,k} x_{k}$$\n",
        "\n",
        "or in code:\n",
        "```\n",
        "y[i] = sum([c*d for c,d in zip(a[i], x)])\n",
        "```\n",
        "\n",
        "Now at the very beginning, our `x` vector has a mean of roughly 0. and a standard deviation of roughly 1. (since we picked it that way)."
      ]
    },
    {
      "cell_type": "code",
      "metadata": {
        "id": "U5WE0tY8aQrD",
        "colab_type": "code",
        "colab": {
          "base_uri": "https://localhost:8080/",
          "height": 35
        },
        "outputId": "5617f5c3-63e5-443d-feef-818d09d9b0c3"
      },
      "source": [
        "x = torch.randn(512)\n",
        "x.mean(), x.std()"
      ],
      "execution_count": 16,
      "outputs": [
        {
          "output_type": "execute_result",
          "data": {
            "text/plain": [
              "(tensor(0.0161), tensor(0.9683))"
            ]
          },
          "metadata": {
            "tags": []
          },
          "execution_count": 16
        }
      ]
    },
    {
      "cell_type": "markdown",
      "metadata": {
        "id": "dM7iPubKaQrI",
        "colab_type": "text"
      },
      "source": [
        "NB: This is why it's extremely important to normalize your inputs in Deep Learning, the intialization rules have been designed with inputs that have a mean 0. and a standard deviation of 1.\n",
        "\n",
        "If you need a refresher from your statistics course, the mean is the sum of all the elements divided by the number of elements (a basic average). The standard deviation represents if the data stays close to the mean or on the contrary gets values that are far away. It's computed by the following formula:\n",
        "\n",
        "$$\\sigma = \\sqrt{\\frac{1}{n}\\left[(x_{0}-m)^{2} + (x_{1}-m)^{2} + \\cdots + (x_{n-1}-m)^{2}\\right]}$$\n",
        "\n",
        "where m is the mean and $\\sigma$ (the greek letter sigma) is the standard deviation. Here we have a mean of 0, so it's just the square root of the mean of x squared.\n",
        "\n",
        "If we go back to `y = a @ x` and assume that we chose weights for `a` that also have a mean of 0, we can compute the standard deviation of `y` quite easily. Since it's random, and we may fall on bad numbers, we repeat the operation 100 times."
      ]
    },
    {
      "cell_type": "code",
      "metadata": {
        "id": "65vp1InFaQrJ",
        "colab_type": "code",
        "colab": {
          "base_uri": "https://localhost:8080/",
          "height": 35
        },
        "outputId": "7d68dd93-caea-4d76-a9a0-680e9b974c82"
      },
      "source": [
        "mean,sqr = 0.,0.\n",
        "for i in range(100):\n",
        "    x = torch.randn(512)\n",
        "    a = torch.randn(512, 512)\n",
        "    y = a @ x\n",
        "    mean += y.mean().item()\n",
        "    sqr  += y.pow(2).mean().item()\n",
        "mean/100,sqr/100"
      ],
      "execution_count": 17,
      "outputs": [
        {
          "output_type": "execute_result",
          "data": {
            "text/plain": [
              "(-0.01848553441464901, 512.7949368286132)"
            ]
          },
          "metadata": {
            "tags": []
          },
          "execution_count": 17
        }
      ]
    },
    {
      "cell_type": "markdown",
      "metadata": {
        "id": "TJuw0az8aQrR",
        "colab_type": "text"
      },
      "source": [
        "Now that looks very close to the dimension of our matrix 512. And that's no coincidence! When you compute y, you sum 512 product of one element of a by one element of x. So what's the mean and the standard deviation of such a product? We can show mathematically that as long as the elements in `a` and the elements in `x` are independent, the mean is 0 and the std is 1. This can also be seen experimentally:"
      ]
    },
    {
      "cell_type": "code",
      "metadata": {
        "id": "qvpbCnuFaQrS",
        "colab_type": "code",
        "colab": {
          "base_uri": "https://localhost:8080/",
          "height": 35
        },
        "outputId": "e95883ee-2794-4293-8c9e-e023cbdb9b59"
      },
      "source": [
        "mean,sqr = 0.,0.\n",
        "for i in range(10000):\n",
        "    x = torch.randn(1)\n",
        "    a = torch.randn(1)\n",
        "    y = a*x\n",
        "    mean += y.item()\n",
        "    sqr  += y.pow(2).item()\n",
        "mean/10000,sqr/10000"
      ],
      "execution_count": 18,
      "outputs": [
        {
          "output_type": "execute_result",
          "data": {
            "text/plain": [
              "(-0.0029117479260750315, 0.9641775839467089)"
            ]
          },
          "metadata": {
            "tags": []
          },
          "execution_count": 18
        }
      ]
    },
    {
      "cell_type": "markdown",
      "metadata": {
        "id": "zt0WXkWgaQrZ",
        "colab_type": "text"
      },
      "source": [
        "Then we sum 512 of those things that have a mean of zero, and a mean of squares of 1, so we get something that has a mean of 0, and mean of square of 512, hence `math.sqrt(512)` being our magic number. If we scale the weights of the matrix `a` and divide them by this `math.sqrt(512)`, it will give us a `y` of scale 1, and repeating the product has many times as we want won't overflow or vanish."
      ]
    },
    {
      "cell_type": "markdown",
      "metadata": {
        "id": "3T22s0tIaQra",
        "colab_type": "text"
      },
      "source": [
        "### Adding ReLU in the mix"
      ]
    },
    {
      "cell_type": "markdown",
      "metadata": {
        "id": "gZ7odWN5aQrb",
        "colab_type": "text"
      },
      "source": [
        "We can reproduce the previous experiment with a ReLU, to see that this time, the mean shifts and the standard deviation becomes 0.5. This time the magic number will be `math.sqrt(2/512)` to properly scale the weights of the matrix."
      ]
    },
    {
      "cell_type": "code",
      "metadata": {
        "id": "E-31GpUXaQrc",
        "colab_type": "code",
        "colab": {
          "base_uri": "https://localhost:8080/",
          "height": 35
        },
        "outputId": "790f7bee-f794-483a-b8ae-8b2400a95b97"
      },
      "source": [
        "mean,sqr = 0.,0.\n",
        "for i in range(10000):\n",
        "    x = torch.randn(1)\n",
        "    a = torch.randn(1)\n",
        "    y = a*x\n",
        "    y = 0 if y < 0 else y.item()\n",
        "    mean += y\n",
        "    sqr  += y ** 2\n",
        "mean/10000,sqr/10000"
      ],
      "execution_count": 19,
      "outputs": [
        {
          "output_type": "execute_result",
          "data": {
            "text/plain": [
              "(0.31017402343263395, 0.4884202700280043)"
            ]
          },
          "metadata": {
            "tags": []
          },
          "execution_count": 19
        }
      ]
    },
    {
      "cell_type": "markdown",
      "metadata": {
        "id": "mvwT_rTBaQrf",
        "colab_type": "text"
      },
      "source": [
        "We can double check by running the experiment on the whole matrix product."
      ]
    },
    {
      "cell_type": "code",
      "metadata": {
        "id": "VcxX0vrpaQrg",
        "colab_type": "code",
        "colab": {
          "base_uri": "https://localhost:8080/",
          "height": 35
        },
        "outputId": "14e18852-8e3d-4613-aa62-6b11be0ffbe6"
      },
      "source": [
        "mean,sqr = 0.,0.\n",
        "for i in range(100):\n",
        "    x = torch.randn(512)\n",
        "    a = torch.randn(512, 512)\n",
        "    y = a @ x\n",
        "    y = y.clamp(min=0)\n",
        "    mean += y.mean().item()\n",
        "    sqr  += y.pow(2).mean().item()\n",
        "mean/100,sqr/100"
      ],
      "execution_count": 20,
      "outputs": [
        {
          "output_type": "execute_result",
          "data": {
            "text/plain": [
              "(9.085283851623535, 259.18255264282226)"
            ]
          },
          "metadata": {
            "tags": []
          },
          "execution_count": 20
        }
      ]
    },
    {
      "cell_type": "markdown",
      "metadata": {
        "id": "cDNxAF4WaQrk",
        "colab_type": "text"
      },
      "source": [
        "Or that scaling the coefficient with the magic number gives us a scale of 1."
      ]
    },
    {
      "cell_type": "code",
      "metadata": {
        "id": "gZh6IjBnaQrl",
        "colab_type": "code",
        "colab": {
          "base_uri": "https://localhost:8080/",
          "height": 35
        },
        "outputId": "78db320d-3bad-4993-fa11-9e10095afaaa"
      },
      "source": [
        "mean,sqr = 0.,0.\n",
        "for i in range(100):\n",
        "    x = torch.randn(512)\n",
        "    a = torch.randn(512, 512) * math.sqrt(2/512)\n",
        "    y = a @ x\n",
        "    y = y.clamp(min=0)\n",
        "    mean += y.mean().item()\n",
        "    sqr  += y.pow(2).mean().item()\n",
        "mean/100,sqr/100"
      ],
      "execution_count": 21,
      "outputs": [
        {
          "output_type": "execute_result",
          "data": {
            "text/plain": [
              "(0.5675738486647606, 1.0028473931550979)"
            ]
          },
          "metadata": {
            "tags": []
          },
          "execution_count": 21
        }
      ]
    },
    {
      "cell_type": "markdown",
      "metadata": {
        "id": "Vc-YfgGyaQro",
        "colab_type": "text"
      },
      "source": [
        "The math behind is a tiny bit more complex, and you can find everything in the [Kaiming](https://arxiv.org/abs/1502.01852) and the [Xavier](http://proceedings.mlr.press/v9/glorot10a.html) paper but this gives the intuition behing those results."
      ]
    }
  ]
}