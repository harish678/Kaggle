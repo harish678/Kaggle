{
  "nbformat": 4,
  "nbformat_minor": 0,
  "metadata": {
    "kernelspec": {
      "name": "python3",
      "display_name": "Python 3"
    },
    "colab": {
      "name": "02a_why_sqrt5.ipynb",
      "provenance": [],
      "toc_visible": true
    },
    "accelerator": "GPU"
  },
  "cells": [
    {
      "cell_type": "code",
      "metadata": {
        "id": "wn5ElkzkPMtd",
        "colab_type": "code",
        "colab": {}
      },
      "source": [
        "%load_ext autoreload\n",
        "%autoreload 2\n",
        "\n",
        "%matplotlib inline"
      ],
      "execution_count": 0,
      "outputs": []
    },
    {
      "cell_type": "markdown",
      "metadata": {
        "id": "VbAfx7wYPMtk",
        "colab_type": "text"
      },
      "source": [
        "## Does nn.Conv2d init work well?"
      ]
    },
    {
      "cell_type": "code",
      "metadata": {
        "id": "UjbNOoguPMtn",
        "colab_type": "code",
        "colab": {}
      },
      "source": [
        "#export\n",
        "from exp.nb_02 import *\n",
        "\n",
        "def get_data():\n",
        "    path = Path('data/mnist.pkl.gz')\n",
        "    with gzip.open(path, 'rb') as f:\n",
        "        ((x_train, y_train), (x_valid, y_valid), _) = pickle.load(f, encoding='latin-1')\n",
        "    return map(tensor, (x_train,y_train,x_valid,y_valid))\n",
        "\n",
        "def normalize(x, m, s): \n",
        "    return (x-m)/s"
      ],
      "execution_count": 0,
      "outputs": []
    },
    {
      "cell_type": "code",
      "metadata": {
        "id": "JVp1wq0CPMtq",
        "colab_type": "code",
        "colab": {}
      },
      "source": [
        "torch.nn.modules.conv._ConvNd.reset_parameters??"
      ],
      "execution_count": 0,
      "outputs": []
    },
    {
      "cell_type": "code",
      "metadata": {
        "id": "Iw78pjjfPMtt",
        "colab_type": "code",
        "colab": {}
      },
      "source": [
        "x_train,y_train,x_valid,y_valid = get_data()\n",
        "train_mean,train_std = x_train.mean(),x_train.std()\n",
        "x_train = normalize(x_train, train_mean, train_std)\n",
        "x_valid = normalize(x_valid, train_mean, train_std)"
      ],
      "execution_count": 0,
      "outputs": []
    },
    {
      "cell_type": "code",
      "metadata": {
        "id": "b0bfYueXPMtx",
        "colab_type": "code",
        "colab": {
          "base_uri": "https://localhost:8080/",
          "height": 35
        },
        "outputId": "ab65985b-2a4a-4c54-8ae4-2fcb4956fdfd"
      },
      "source": [
        "# resizing vector to 2d tensor to fit into convalution layer\n",
        "x_train = x_train.view(-1,1,28,28)\n",
        "x_valid = x_valid.view(-1,1,28,28)\n",
        "x_train.shape,x_valid.shape"
      ],
      "execution_count": 6,
      "outputs": [
        {
          "output_type": "execute_result",
          "data": {
            "text/plain": [
              "(torch.Size([50000, 1, 28, 28]), torch.Size([10000, 1, 28, 28]))"
            ]
          },
          "metadata": {
            "tags": []
          },
          "execution_count": 6
        }
      ]
    },
    {
      "cell_type": "code",
      "metadata": {
        "id": "5zOeQB9QPMt2",
        "colab_type": "code",
        "colab": {
          "base_uri": "https://localhost:8080/",
          "height": 35
        },
        "outputId": "2b98b5a6-5770-4c3c-e922-849141b83afc"
      },
      "source": [
        "n,*_ = x_train.shape\n",
        "c = y_train.max()+1\n",
        "nh = 32\n",
        "n,c"
      ],
      "execution_count": 7,
      "outputs": [
        {
          "output_type": "execute_result",
          "data": {
            "text/plain": [
              "(50000, tensor(10))"
            ]
          },
          "metadata": {
            "tags": []
          },
          "execution_count": 7
        }
      ]
    },
    {
      "cell_type": "code",
      "metadata": {
        "id": "G_bxzJNMPMt5",
        "colab_type": "code",
        "colab": {}
      },
      "source": [
        "l1 = nn.Conv2d(1, nh, 5) # 1 chanel input, 32 channel output with 5x5 kernel size"
      ],
      "execution_count": 0,
      "outputs": []
    },
    {
      "cell_type": "code",
      "metadata": {
        "id": "Hdzxtw06PMt7",
        "colab_type": "code",
        "colab": {}
      },
      "source": [
        "# small sammple for testing purposes\n",
        "x = x_valid[:100]"
      ],
      "execution_count": 0,
      "outputs": []
    },
    {
      "cell_type": "code",
      "metadata": {
        "id": "yIorwoINPMt-",
        "colab_type": "code",
        "colab": {
          "base_uri": "https://localhost:8080/",
          "height": 35
        },
        "outputId": "d70cdce1-e759-4af8-af43-40b9a0ba298f"
      },
      "source": [
        "x.shape"
      ],
      "execution_count": 10,
      "outputs": [
        {
          "output_type": "execute_result",
          "data": {
            "text/plain": [
              "torch.Size([100, 1, 28, 28])"
            ]
          },
          "metadata": {
            "tags": []
          },
          "execution_count": 10
        }
      ]
    },
    {
      "cell_type": "code",
      "metadata": {
        "id": "sI_FgoJBPMuE",
        "colab_type": "code",
        "colab": {}
      },
      "source": [
        "def stats(x): \n",
        "    return x.mean(),x.std()"
      ],
      "execution_count": 0,
      "outputs": []
    },
    {
      "cell_type": "code",
      "metadata": {
        "id": "7Mt_SuqJPMuI",
        "colab_type": "code",
        "colab": {
          "base_uri": "https://localhost:8080/",
          "height": 35
        },
        "outputId": "3b09d6e9-c04d-4469-a430-4520644d61ed"
      },
      "source": [
        "l1.weight.shape"
      ],
      "execution_count": 12,
      "outputs": [
        {
          "output_type": "execute_result",
          "data": {
            "text/plain": [
              "torch.Size([32, 1, 5, 5])"
            ]
          },
          "metadata": {
            "tags": []
          },
          "execution_count": 12
        }
      ]
    },
    {
      "cell_type": "code",
      "metadata": {
        "id": "q9HsjCODPMuN",
        "colab_type": "code",
        "colab": {
          "base_uri": "https://localhost:8080/",
          "height": 90
        },
        "outputId": "041c159d-da8f-49c6-c17d-49e5ec4d0395"
      },
      "source": [
        "stats(l1.weight),stats(l1.bias)"
      ],
      "execution_count": 13,
      "outputs": [
        {
          "output_type": "execute_result",
          "data": {
            "text/plain": [
              "((tensor(-0.0059, grad_fn=<MeanBackward0>),\n",
              "  tensor(0.1161, grad_fn=<StdBackward0>)),\n",
              " (tensor(-0.0220, grad_fn=<MeanBackward0>),\n",
              "  tensor(0.1206, grad_fn=<StdBackward0>)))"
            ]
          },
          "metadata": {
            "tags": []
          },
          "execution_count": 13
        }
      ]
    },
    {
      "cell_type": "code",
      "metadata": {
        "id": "nmJ0mzIaPMuR",
        "colab_type": "code",
        "colab": {}
      },
      "source": [
        "t = l1(x)"
      ],
      "execution_count": 0,
      "outputs": []
    },
    {
      "cell_type": "code",
      "metadata": {
        "id": "az3Oik-yPMuV",
        "colab_type": "code",
        "colab": {
          "base_uri": "https://localhost:8080/",
          "height": 53
        },
        "outputId": "6376a820-02d9-46cc-d431-a03e4883aa22"
      },
      "source": [
        "stats(t)"
      ],
      "execution_count": 15,
      "outputs": [
        {
          "output_type": "execute_result",
          "data": {
            "text/plain": [
              "(tensor(-0.0376, grad_fn=<MeanBackward0>),\n",
              " tensor(0.6506, grad_fn=<StdBackward0>))"
            ]
          },
          "metadata": {
            "tags": []
          },
          "execution_count": 15
        }
      ]
    },
    {
      "cell_type": "markdown",
      "metadata": {
        "id": "bdusftZQTB9Z",
        "colab_type": "text"
      },
      "source": [
        "standard deviation is not close to 1, so we compare the kaiming uniform with kaiming normal. \n",
        "\n",
        "**Kaiming Normal uses Leaky ReLu layer**"
      ]
    },
    {
      "cell_type": "code",
      "metadata": {
        "id": "phBY5jQsPMuZ",
        "colab_type": "code",
        "colab": {
          "base_uri": "https://localhost:8080/",
          "height": 53
        },
        "outputId": "f63be2c9-b4c0-4eff-9a2d-b9f8614aa590"
      },
      "source": [
        "init.kaiming_normal_(l1.weight, a=1.)\n",
        "stats(l1(x))"
      ],
      "execution_count": 19,
      "outputs": [
        {
          "output_type": "execute_result",
          "data": {
            "text/plain": [
              "(tensor(0.0019, grad_fn=<MeanBackward0>),\n",
              " tensor(1.0800, grad_fn=<StdBackward0>))"
            ]
          },
          "metadata": {
            "tags": []
          },
          "execution_count": 19
        }
      ]
    },
    {
      "cell_type": "code",
      "metadata": {
        "id": "2noiiI1bPMuc",
        "colab_type": "code",
        "colab": {}
      },
      "source": [
        "import torch.nn.functional as F"
      ],
      "execution_count": 0,
      "outputs": []
    },
    {
      "cell_type": "code",
      "metadata": {
        "id": "knBL_YMfPMuf",
        "colab_type": "code",
        "colab": {}
      },
      "source": [
        "def f1(x,a=0): \n",
        "    return F.leaky_relu(l1(x),a)"
      ],
      "execution_count": 0,
      "outputs": []
    },
    {
      "cell_type": "code",
      "metadata": {
        "id": "JWSbKMO-PMui",
        "colab_type": "code",
        "colab": {
          "base_uri": "https://localhost:8080/",
          "height": 53
        },
        "outputId": "003ad8cb-66e2-4ad7-a4df-5c7dcf61d135"
      },
      "source": [
        "init.kaiming_normal_(l1.weight, a=0)\n",
        "stats(f1(x))"
      ],
      "execution_count": 22,
      "outputs": [
        {
          "output_type": "execute_result",
          "data": {
            "text/plain": [
              "(tensor(0.5173, grad_fn=<MeanBackward0>),\n",
              " tensor(1.0073, grad_fn=<StdBackward0>))"
            ]
          },
          "metadata": {
            "tags": []
          },
          "execution_count": 22
        }
      ]
    },
    {
      "cell_type": "code",
      "metadata": {
        "id": "QuFg_BUWPMuk",
        "colab_type": "code",
        "colab": {
          "base_uri": "https://localhost:8080/",
          "height": 53
        },
        "outputId": "892cf47f-45ba-404b-ba70-30ac425279ff"
      },
      "source": [
        "l1 = nn.Conv2d(1, nh, 5)\n",
        "stats(f1(x))\n",
        "# after relu it's even worse"
      ],
      "execution_count": 23,
      "outputs": [
        {
          "output_type": "execute_result",
          "data": {
            "text/plain": [
              "(tensor(0.2396, grad_fn=<MeanBackward0>),\n",
              " tensor(0.4403, grad_fn=<StdBackward0>))"
            ]
          },
          "metadata": {
            "tags": []
          },
          "execution_count": 23
        }
      ]
    },
    {
      "cell_type": "code",
      "metadata": {
        "id": "XUehhaPIPMun",
        "colab_type": "code",
        "colab": {
          "base_uri": "https://localhost:8080/",
          "height": 35
        },
        "outputId": "cf2cadf1-5def-4b14-a366-1454f19e58c1"
      },
      "source": [
        "l1.weight.shape"
      ],
      "execution_count": 24,
      "outputs": [
        {
          "output_type": "execute_result",
          "data": {
            "text/plain": [
              "torch.Size([32, 1, 5, 5])"
            ]
          },
          "metadata": {
            "tags": []
          },
          "execution_count": 24
        }
      ]
    },
    {
      "cell_type": "markdown",
      "metadata": {
        "id": "OMLlMey6Uuii",
        "colab_type": "text"
      },
      "source": [
        "**Implementing our own Kaiming initializer**"
      ]
    },
    {
      "cell_type": "code",
      "metadata": {
        "id": "144DBAOkPMus",
        "colab_type": "code",
        "colab": {
          "base_uri": "https://localhost:8080/",
          "height": 35
        },
        "outputId": "d3838ae8-9c54-4a0c-b9ff-5e8bd44a29bf"
      },
      "source": [
        "# receptive field size; take one of the lement and call numel() will give the 5x5 num of elements.\n",
        "rec_fs = l1.weight[0,0].numel()\n",
        "rec_fs"
      ],
      "execution_count": 25,
      "outputs": [
        {
          "output_type": "execute_result",
          "data": {
            "text/plain": [
              "25"
            ]
          },
          "metadata": {
            "tags": []
          },
          "execution_count": 25
        }
      ]
    },
    {
      "cell_type": "code",
      "metadata": {
        "id": "a5MKnhCvPMux",
        "colab_type": "code",
        "colab": {
          "base_uri": "https://localhost:8080/",
          "height": 35
        },
        "outputId": "0fd17713-15ac-49cf-9338-fd0a3d7149a6"
      },
      "source": [
        "nf,ni,*_ = l1.weight.shape\n",
        "nf,ni"
      ],
      "execution_count": 26,
      "outputs": [
        {
          "output_type": "execute_result",
          "data": {
            "text/plain": [
              "(32, 1)"
            ]
          },
          "metadata": {
            "tags": []
          },
          "execution_count": 26
        }
      ]
    },
    {
      "cell_type": "code",
      "metadata": {
        "id": "YGToxrHIPMu1",
        "colab_type": "code",
        "colab": {
          "base_uri": "https://localhost:8080/",
          "height": 35
        },
        "outputId": "c7e48d3e-0898-40df-c57f-0c7d15910c71"
      },
      "source": [
        "fan_in  = ni*rec_fs # input channels * num of receptors\n",
        "fan_out = nf*rec_fs # output channels * num of receptors\n",
        "fan_in,fan_out"
      ],
      "execution_count": 27,
      "outputs": [
        {
          "output_type": "execute_result",
          "data": {
            "text/plain": [
              "(25, 800)"
            ]
          },
          "metadata": {
            "tags": []
          },
          "execution_count": 27
        }
      ]
    },
    {
      "cell_type": "code",
      "metadata": {
        "id": "ARmlbjK-PMu4",
        "colab_type": "code",
        "colab": {}
      },
      "source": [
        "# kaiming init formula\n",
        "def gain(a): \n",
        "    return math.sqrt(2.0 / (1 + a**2))"
      ],
      "execution_count": 0,
      "outputs": []
    },
    {
      "cell_type": "code",
      "metadata": {
        "id": "LgImdqjaPMu7",
        "colab_type": "code",
        "colab": {
          "base_uri": "https://localhost:8080/",
          "height": 108
        },
        "outputId": "0e9eed6b-7ec8-4108-b88f-3864a150639f"
      },
      "source": [
        "gain(1),gain(0),gain(0.01),gain(0.1),gain(math.sqrt(5.))"
      ],
      "execution_count": 29,
      "outputs": [
        {
          "output_type": "execute_result",
          "data": {
            "text/plain": [
              "(1.0,\n",
              " 1.4142135623730951,\n",
              " 1.4141428569978354,\n",
              " 1.4071950894605838,\n",
              " 0.5773502691896257)"
            ]
          },
          "metadata": {
            "tags": []
          },
          "execution_count": 29
        }
      ]
    },
    {
      "cell_type": "code",
      "metadata": {
        "id": "oA4TbY0kPMu_",
        "colab_type": "code",
        "colab": {
          "base_uri": "https://localhost:8080/",
          "height": 35
        },
        "outputId": "d6c0abef-a5d2-4c28-d1ae-8a5fc70991ad"
      },
      "source": [
        "# we have implemented kaiming normal but cnv2d uses kaiming uniform; chacking the standard deviation for random numbers \n",
        "torch.zeros(10000).uniform_(-1,1).std()"
      ],
      "execution_count": 30,
      "outputs": [
        {
          "output_type": "execute_result",
          "data": {
            "text/plain": [
              "tensor(0.5779)"
            ]
          },
          "metadata": {
            "tags": []
          },
          "execution_count": 30
        }
      ]
    },
    {
      "cell_type": "code",
      "metadata": {
        "id": "6p_MNnWIPMvC",
        "colab_type": "code",
        "colab": {
          "base_uri": "https://localhost:8080/",
          "height": 35
        },
        "outputId": "56c07709-2b6e-4dfe-f669-fad2ba99a8cf"
      },
      "source": [
        "# equal to 1/√3; which we use to make normal distribution to uniform distribution\n",
        "1/math.sqrt(3.)"
      ],
      "execution_count": 31,
      "outputs": [
        {
          "output_type": "execute_result",
          "data": {
            "text/plain": [
              "0.5773502691896258"
            ]
          },
          "metadata": {
            "tags": []
          },
          "execution_count": 31
        }
      ]
    },
    {
      "cell_type": "code",
      "metadata": {
        "id": "hwZVEiYsPMvF",
        "colab_type": "code",
        "colab": {}
      },
      "source": [
        "def kaiming2(x,a, use_fan_out=False):\n",
        "    nf,ni,*_ = x.shape\n",
        "    rec_fs = x[0,0].shape.numel()\n",
        "    fan = nf*rec_fs if use_fan_out else ni*rec_fs\n",
        "    std = gain(a) / math.sqrt(fan)\n",
        "    bound = math.sqrt(3.) * std\n",
        "    x.data.uniform_(-bound,bound)"
      ],
      "execution_count": 0,
      "outputs": []
    },
    {
      "cell_type": "code",
      "metadata": {
        "id": "EExh1l_BPMvN",
        "colab_type": "code",
        "colab": {
          "base_uri": "https://localhost:8080/",
          "height": 53
        },
        "outputId": "6740cd51-0df5-4890-8b67-a939a09e39b9"
      },
      "source": [
        "kaiming2(l1.weight, a=0);\n",
        "stats(f1(x))"
      ],
      "execution_count": 33,
      "outputs": [
        {
          "output_type": "execute_result",
          "data": {
            "text/plain": [
              "(tensor(0.5211, grad_fn=<MeanBackward0>),\n",
              " tensor(0.9394, grad_fn=<StdBackward0>))"
            ]
          },
          "metadata": {
            "tags": []
          },
          "execution_count": 33
        }
      ]
    },
    {
      "cell_type": "code",
      "metadata": {
        "id": "GAhjFxb3PMvq",
        "colab_type": "code",
        "colab": {
          "base_uri": "https://localhost:8080/",
          "height": 53
        },
        "outputId": "16862067-acb0-4936-dfa5-b718bca73d77"
      },
      "source": [
        "kaiming2(l1.weight, a=math.sqrt(5.)) # √5 used in pytorch\n",
        "stats(f1(x))"
      ],
      "execution_count": 34,
      "outputs": [
        {
          "output_type": "execute_result",
          "data": {
            "text/plain": [
              "(tensor(0.2520, grad_fn=<MeanBackward0>),\n",
              " tensor(0.4290, grad_fn=<StdBackward0>))"
            ]
          },
          "metadata": {
            "tags": []
          },
          "execution_count": 34
        }
      ]
    },
    {
      "cell_type": "code",
      "metadata": {
        "id": "pFeRO3H2PMvw",
        "colab_type": "code",
        "colab": {}
      },
      "source": [
        "class Flatten(nn.Module):\n",
        "    def forward(self,x): return x.view(-1)"
      ],
      "execution_count": 0,
      "outputs": []
    },
    {
      "cell_type": "code",
      "metadata": {
        "id": "uq3Lac4KPMv1",
        "colab_type": "code",
        "colab": {}
      },
      "source": [
        "m = nn.Sequential(\n",
        "    nn.Conv2d(1,8, 5,stride=2,padding=2), nn.ReLU(),\n",
        "    nn.Conv2d(8,16,3,stride=2,padding=1), nn.ReLU(),\n",
        "    nn.Conv2d(16,32,3,stride=2,padding=1), nn.ReLU(),\n",
        "    nn.Conv2d(32,1,3,stride=2,padding=1),\n",
        "    nn.AdaptiveAvgPool2d(1),\n",
        "    Flatten(),\n",
        ")"
      ],
      "execution_count": 0,
      "outputs": []
    },
    {
      "cell_type": "code",
      "metadata": {
        "id": "Ruhi6BkZPMv4",
        "colab_type": "code",
        "colab": {}
      },
      "source": [
        "# sample dependent variables to test\n",
        "y = y_valid[:100].float()"
      ],
      "execution_count": 0,
      "outputs": []
    },
    {
      "cell_type": "code",
      "metadata": {
        "id": "DMhK1LsYPMv9",
        "colab_type": "code",
        "colab": {
          "base_uri": "https://localhost:8080/",
          "height": 53
        },
        "outputId": "1dea0ed0-41aa-44ff-ffcd-929bc5e79824"
      },
      "source": [
        "t = m(x)\n",
        "stats(t)"
      ],
      "execution_count": 38,
      "outputs": [
        {
          "output_type": "execute_result",
          "data": {
            "text/plain": [
              "(tensor(-0.0451, grad_fn=<MeanBackward0>),\n",
              " tensor(0.0102, grad_fn=<StdBackward0>))"
            ]
          },
          "metadata": {
            "tags": []
          },
          "execution_count": 38
        }
      ]
    },
    {
      "cell_type": "code",
      "metadata": {
        "id": "TPDTiS77PMv_",
        "colab_type": "code",
        "colab": {}
      },
      "source": [
        "l = mse(t,y)\n",
        "l.backward()"
      ],
      "execution_count": 0,
      "outputs": []
    },
    {
      "cell_type": "code",
      "metadata": {
        "id": "_OAoMl0NPMwC",
        "colab_type": "code",
        "colab": {
          "base_uri": "https://localhost:8080/",
          "height": 35
        },
        "outputId": "f0f51fb8-4bc9-4c85-e062-6ce1ad532418"
      },
      "source": [
        "stats(m[0].weight.grad)"
      ],
      "execution_count": 40,
      "outputs": [
        {
          "output_type": "execute_result",
          "data": {
            "text/plain": [
              "(tensor(0.0262), tensor(0.0296))"
            ]
          },
          "metadata": {
            "tags": []
          },
          "execution_count": 40
        }
      ]
    },
    {
      "cell_type": "code",
      "metadata": {
        "id": "j_DYh62gPMwG",
        "colab_type": "code",
        "colab": {}
      },
      "source": [
        "init.kaiming_uniform_??"
      ],
      "execution_count": 0,
      "outputs": []
    },
    {
      "cell_type": "code",
      "metadata": {
        "id": "s3GK5zwgPMwK",
        "colab_type": "code",
        "colab": {}
      },
      "source": [
        "for l in m:\n",
        "    if isinstance(l,nn.Conv2d):\n",
        "        init.kaiming_uniform_(l.weight)\n",
        "        l.bias.data.zero_()"
      ],
      "execution_count": 0,
      "outputs": []
    },
    {
      "cell_type": "code",
      "metadata": {
        "id": "GwtevPutPMwN",
        "colab_type": "code",
        "colab": {
          "base_uri": "https://localhost:8080/",
          "height": 53
        },
        "outputId": "f7d2d8b2-3b36-4ecd-ced9-fd3f052e0607"
      },
      "source": [
        "t = m(x)\n",
        "stats(t)"
      ],
      "execution_count": 42,
      "outputs": [
        {
          "output_type": "execute_result",
          "data": {
            "text/plain": [
              "(tensor(0.3679, grad_fn=<MeanBackward0>),\n",
              " tensor(0.2916, grad_fn=<StdBackward0>))"
            ]
          },
          "metadata": {
            "tags": []
          },
          "execution_count": 42
        }
      ]
    },
    {
      "cell_type": "code",
      "metadata": {
        "id": "Ml6xLM4-PMwQ",
        "colab_type": "code",
        "colab": {
          "base_uri": "https://localhost:8080/",
          "height": 35
        },
        "outputId": "a4eea6af-6d16-4193-f8d7-462eabfdac7a"
      },
      "source": [
        "l = mse(t,y)\n",
        "l.backward()\n",
        "stats(m[0].weight.grad)"
      ],
      "execution_count": 43,
      "outputs": [
        {
          "output_type": "execute_result",
          "data": {
            "text/plain": [
              "(tensor(0.0645), tensor(0.4492))"
            ]
          },
          "metadata": {
            "tags": []
          },
          "execution_count": 43
        }
      ]
    },
    {
      "cell_type": "markdown",
      "metadata": {
        "id": "vg1RQgfvPMwT",
        "colab_type": "text"
      },
      "source": [
        "## Export"
      ]
    },
    {
      "cell_type": "code",
      "metadata": {
        "id": "WFJySkw9PMwU",
        "colab_type": "code",
        "colab": {
          "base_uri": "https://localhost:8080/",
          "height": 35
        },
        "outputId": "d2b2f647-c8c8-4909-a352-ce311a56c718"
      },
      "source": [
        "!chmod 755 ./notebook2script.py\n",
        "!./notebook2script.py 02a_why_sqrt5.ipynb"
      ],
      "execution_count": 44,
      "outputs": [
        {
          "output_type": "stream",
          "text": [
            "Converted 02a_why_sqrt5.ipynb to exp/nb_02a.py\n"
          ],
          "name": "stdout"
        }
      ]
    },
    {
      "cell_type": "code",
      "metadata": {
        "id": "etit9VMHPMwY",
        "colab_type": "code",
        "colab": {}
      },
      "source": [
        ""
      ],
      "execution_count": 0,
      "outputs": []
    }
  ]
}